{
 "cells": [
  {
   "cell_type": "markdown",
   "id": "267a13ef",
   "metadata": {},
   "source": [
    "# Introduction\n",
    "Une méthode largement reconnue pour évaluer les effets environnementaux d'un produit tout au long de sa vie est la méthode de l'analyse du cycle de vie (ACV). Cette méthode évalue les impacts environnementaux d'un produit depuis l'extraction et la transformation des matières premières jusqu'à son recyclage ou son élimination.  \n",
    "\n",
    "Les études d'ACV reposent généralement sur de grandes bases de données (par exemple, la base de données GaBi, Ecoinvent), compilées par des experts dans le domaine, qui contiennent l'impact environnemental de divers composants et processus du produit. Les calculs de l'impact de toutes les charges environnementales associées à un produit peuvent ensuite être effectués à l'aide d'une simple feuille de calcul ou d'outils et de solutions logicielles d'ACV (par exemple GaBi et SimaPro).  \n",
    "\n",
    "La méthode ACV est de plus en plus utilisée pour l'étiquetage des produits et les déclarations environnementales des produits (EPD). Toutefois, les procédures d'ACV étant complexes, longues et coûteuses, il est difficile d'utiliser cette méthode pour attribuer rapidement une note globale de durabilité environnementale aux produits.  \n",
    "\n",
    "Par conséquent, il existe de nombreux labels environnementaux différents qui ne prennent en compte que certains aspects du cycle de vie, au lieu d'avoir un label unique qui reflète l'impact environnemental global des produits tout au long de leur cycle de vie.  \n",
    "\n",
    "Ainsi, avec ce projet, **nous espérons créer un modèle de classification par apprentissage supervisé capable de classer l'impact environnemental d'un vêtement en fonction de sa composition, de sa fabrication et de sa consommation. Ce modèle pourrait être utilisé par les marques dans leurs étiquettes comme un label de qualité environnementale de leurs produits**.\n",
    "\n",
    "# Dataset\n",
    "* [Clothing Products Dataset](https://doi.org/10.14428/DVN/5CJZHI)\n",
    "* Autrice : Satinet, Chloé, 2022\n",
    "* Source : Open Data @ UCLouvain\n",
    "\n",
    "Nous avons décidés de travailler avec ce jeu de données car il a été prétraitée par son autrice qui a recueilli les informationd sur l'analyse du cycle de vie (ACV) de différents produits.  \n",
    "\n",
    "Les sources originales de cette base de données proviennent de la base de données Open Source du système international EPD, de la marque de denim certifiée durable et équitable \"MUD Jeans\", basée aux Pays-Bas, qui a accepté de partager les résultats des ACV réalisées pour 75 de ses produits, d'études fournies par différents chercheurs et organisations et du site de commerce électronique \"Reformation\" et d'un deuxième revendeur en ligne populaire à l'aide de la bibliothèque Python Beautiful Soup.  \n",
    "\n",
    "Lorsque les valeurs de certains produits étaient manquantes pour certaines variables, l'autrice les a déduit à partir d'observations présentant des valeurs similaires pour les autres variables ou elle ne les a pas comblés, en fonction des données manquantes.  \n",
    "\n",
    "En ce qui concerne le lieu d'utilisation d'un produit, l'autrice a sélectionné au hasard un pays faisant partie du revendeur en ligne du produit, afin de générer une variété de distances de transport représentatives de la réalité.   \n",
    "\n",
    "Elle a obtenu ainsi un **ensemble de données contenant 1136 produits vestimentaires avec des données complètes sur les attributs du produit et les données correspondantes sur l'impact environnemental total sur une échelle de 1 à 5**.  \n",
    "\n",
    "\n",
    "# Importation des librairies"
   ]
  },
  {
   "cell_type": "code",
   "execution_count": 12,
   "id": "b6a865f3",
   "metadata": {},
   "outputs": [],
   "source": [
    "# -*- coding: utf-8 -*-\n",
    "from flask import Flask, render_template\n",
    "\n",
    "import pandas as pd\n",
    "import numpy as np\n",
    "import matplotlib.pyplot as plt\n",
    "import seaborn as sns\n",
    "sns.set()\n",
    "from sklearn import preprocessing\n",
    "from sklearn.decomposition import PCA\n",
    "from sklearn.tree import DecisionTreeClassifier, plot_tree\n",
    "from sklearn.ensemble import RandomForestClassifier\n",
    "from sklearn import metrics\n",
    "from sklearn.metrics import classification_report, accuracy_score, confusion_matrix, ConfusionMatrixDisplay\n",
    "from sklearn.model_selection import GridSearchCV, train_test_split"
   ]
  },
  {
   "cell_type": "code",
   "execution_count": 13,
   "id": "e50d44d1",
   "metadata": {},
   "outputs": [],
   "source": [
    "# -*- coding: utf-8 -*-\n",
    "\n",
    "\n",
    "app = Flask(__name__)"
   ]
  },
  {
   "cell_type": "markdown",
   "id": "ab61b295",
   "metadata": {},
   "source": [
    "# Importation du jeu de données"
   ]
  },
  {
   "cell_type": "code",
   "execution_count": 14,
   "id": "eb9b8493",
   "metadata": {},
   "outputs": [
    {
     "data": {
      "text/html": [
       "<div>\n",
       "<style scoped>\n",
       "    .dataframe tbody tr th:only-of-type {\n",
       "        vertical-align: middle;\n",
       "    }\n",
       "\n",
       "    .dataframe tbody tr th {\n",
       "        vertical-align: top;\n",
       "    }\n",
       "\n",
       "    .dataframe thead th {\n",
       "        text-align: right;\n",
       "    }\n",
       "</style>\n",
       "<table border=\"1\" class=\"dataframe\">\n",
       "  <thead>\n",
       "    <tr style=\"text-align: right;\">\n",
       "      <th></th>\n",
       "      <th>ID</th>\n",
       "      <th>Type</th>\n",
       "      <th>Cotton</th>\n",
       "      <th>Organic_cotton</th>\n",
       "      <th>Linen</th>\n",
       "      <th>Hemp</th>\n",
       "      <th>Jute</th>\n",
       "      <th>Other_plant</th>\n",
       "      <th>Silk</th>\n",
       "      <th>Wool</th>\n",
       "      <th>...</th>\n",
       "      <th>Chemicals_label</th>\n",
       "      <th>Production_label</th>\n",
       "      <th>Manufacturing_location</th>\n",
       "      <th>Transporation_distance</th>\n",
       "      <th>Use_location</th>\n",
       "      <th>Washing_instruction</th>\n",
       "      <th>Drying_instruction</th>\n",
       "      <th>Reusability_label</th>\n",
       "      <th>Recylability_label</th>\n",
       "      <th>EI</th>\n",
       "    </tr>\n",
       "  </thead>\n",
       "  <tbody>\n",
       "    <tr>\n",
       "      <th>0</th>\n",
       "      <td>1</td>\n",
       "      <td>jeans</td>\n",
       "      <td>0.4</td>\n",
       "      <td>0.6</td>\n",
       "      <td>0.0</td>\n",
       "      <td>0.0</td>\n",
       "      <td>0</td>\n",
       "      <td>0</td>\n",
       "      <td>0.0</td>\n",
       "      <td>0.0</td>\n",
       "      <td>...</td>\n",
       "      <td>0</td>\n",
       "      <td>1</td>\n",
       "      <td>Africa</td>\n",
       "      <td>2072.0</td>\n",
       "      <td>Netherlands</td>\n",
       "      <td>Machine wash_ cold</td>\n",
       "      <td>Line dry</td>\n",
       "      <td>1</td>\n",
       "      <td>1</td>\n",
       "      <td>1</td>\n",
       "    </tr>\n",
       "    <tr>\n",
       "      <th>1</th>\n",
       "      <td>2</td>\n",
       "      <td>jeans</td>\n",
       "      <td>0.4</td>\n",
       "      <td>0.6</td>\n",
       "      <td>0.0</td>\n",
       "      <td>0.0</td>\n",
       "      <td>0</td>\n",
       "      <td>0</td>\n",
       "      <td>0.0</td>\n",
       "      <td>0.0</td>\n",
       "      <td>...</td>\n",
       "      <td>0</td>\n",
       "      <td>1</td>\n",
       "      <td>Africa</td>\n",
       "      <td>2389.0</td>\n",
       "      <td>Germany</td>\n",
       "      <td>Machine wash_ cold</td>\n",
       "      <td>Line dry</td>\n",
       "      <td>1</td>\n",
       "      <td>1</td>\n",
       "      <td>1</td>\n",
       "    </tr>\n",
       "    <tr>\n",
       "      <th>2</th>\n",
       "      <td>3</td>\n",
       "      <td>jeans</td>\n",
       "      <td>0.4</td>\n",
       "      <td>0.6</td>\n",
       "      <td>0.0</td>\n",
       "      <td>0.0</td>\n",
       "      <td>0</td>\n",
       "      <td>0</td>\n",
       "      <td>0.0</td>\n",
       "      <td>0.0</td>\n",
       "      <td>...</td>\n",
       "      <td>0</td>\n",
       "      <td>1</td>\n",
       "      <td>Africa</td>\n",
       "      <td>2262.0</td>\n",
       "      <td>Belgium</td>\n",
       "      <td>Machine wash_ cold</td>\n",
       "      <td>Line dry</td>\n",
       "      <td>1</td>\n",
       "      <td>1</td>\n",
       "      <td>1</td>\n",
       "    </tr>\n",
       "    <tr>\n",
       "      <th>3</th>\n",
       "      <td>4</td>\n",
       "      <td>jacket</td>\n",
       "      <td>0.4</td>\n",
       "      <td>0.6</td>\n",
       "      <td>0.0</td>\n",
       "      <td>0.0</td>\n",
       "      <td>0</td>\n",
       "      <td>0</td>\n",
       "      <td>0.0</td>\n",
       "      <td>0.0</td>\n",
       "      <td>...</td>\n",
       "      <td>0</td>\n",
       "      <td>1</td>\n",
       "      <td>Africa</td>\n",
       "      <td>2728.0</td>\n",
       "      <td>France</td>\n",
       "      <td>Machine wash_ cold</td>\n",
       "      <td>Line dry</td>\n",
       "      <td>1</td>\n",
       "      <td>1</td>\n",
       "      <td>1</td>\n",
       "    </tr>\n",
       "    <tr>\n",
       "      <th>4</th>\n",
       "      <td>5</td>\n",
       "      <td>jacket</td>\n",
       "      <td>0.4</td>\n",
       "      <td>0.6</td>\n",
       "      <td>0.0</td>\n",
       "      <td>0.0</td>\n",
       "      <td>0</td>\n",
       "      <td>0</td>\n",
       "      <td>0.0</td>\n",
       "      <td>0.0</td>\n",
       "      <td>...</td>\n",
       "      <td>0</td>\n",
       "      <td>1</td>\n",
       "      <td>Africa</td>\n",
       "      <td>2887.0</td>\n",
       "      <td>Austria</td>\n",
       "      <td>Machine wash_ cold</td>\n",
       "      <td>Line dry</td>\n",
       "      <td>1</td>\n",
       "      <td>1</td>\n",
       "      <td>1</td>\n",
       "    </tr>\n",
       "  </tbody>\n",
       "</table>\n",
       "<p>5 rows × 43 columns</p>\n",
       "</div>"
      ],
      "text/plain": [
       "   ID     Type  Cotton  Organic_cotton  Linen  Hemp  Jute  Other_plant  Silk  \\\n",
       "0   1    jeans     0.4             0.6    0.0   0.0     0            0   0.0   \n",
       "1   2    jeans     0.4             0.6    0.0   0.0     0            0   0.0   \n",
       "2   3    jeans     0.4             0.6    0.0   0.0     0            0   0.0   \n",
       "3   4   jacket     0.4             0.6    0.0   0.0     0            0   0.0   \n",
       "4   5  jacket      0.4             0.6    0.0   0.0     0            0   0.0   \n",
       "\n",
       "   Wool  ...  Chemicals_label  Production_label  Manufacturing_location  \\\n",
       "0   0.0  ...                0                 1                  Africa   \n",
       "1   0.0  ...                0                 1                  Africa   \n",
       "2   0.0  ...                0                 1                  Africa   \n",
       "3   0.0  ...                0                 1                  Africa   \n",
       "4   0.0  ...                0                 1                  Africa   \n",
       "\n",
       "   Transporation_distance  Use_location  Washing_instruction  \\\n",
       "0                  2072.0   Netherlands   Machine wash_ cold   \n",
       "1                  2389.0       Germany   Machine wash_ cold   \n",
       "2                  2262.0       Belgium   Machine wash_ cold   \n",
       "3                  2728.0        France   Machine wash_ cold   \n",
       "4                  2887.0       Austria   Machine wash_ cold   \n",
       "\n",
       "   Drying_instruction  Reusability_label  Recylability_label  EI  \n",
       "0            Line dry                  1                   1   1  \n",
       "1            Line dry                  1                   1   1  \n",
       "2            Line dry                  1                   1   1  \n",
       "3            Line dry                  1                   1   1  \n",
       "4            Line dry                  1                   1   1  \n",
       "\n",
       "[5 rows x 43 columns]"
      ]
     },
     "execution_count": 14,
     "metadata": {},
     "output_type": "execute_result"
    }
   ],
   "source": [
    "# -*- coding: utf-8 -*-\n",
    "\n",
    "df = pd.read_excel(\"database/Full Dataset.xlsx\")\n",
    "df.head()"
   ]
  },
  {
   "cell_type": "markdown",
   "id": "b7d83d91",
   "metadata": {},
   "source": [
    "# Traitement du jeu de données\n",
    "\n",
    "Regardons le nombre de lignes et de colonnes dans notre jeu de données :"
   ]
  },
  {
   "cell_type": "code",
   "execution_count": 15,
   "id": "a33b1aef",
   "metadata": {},
   "outputs": [
    {
     "name": "stdout",
     "output_type": "stream",
     "text": [
      "Nombre de lignes : 1136\n",
      "Nombre de colonnes : 43\n"
     ]
    }
   ],
   "source": [
    "# -*- coding: utf-8 -*-\n",
    "\n",
    "print(\"Nombre de lignes :\", df.shape[0])\n",
    "print(\"Nombre de colonnes :\", df.shape[1])"
   ]
  },
  {
   "cell_type": "markdown",
   "id": "ca545477",
   "metadata": {},
   "source": [
    "Regardons les informations générales, telles que les noms des colonnes, leurs types et le nombre de données non-nulles :"
   ]
  },
  {
   "cell_type": "code",
   "execution_count": 16,
   "id": "a8e25a3e",
   "metadata": {},
   "outputs": [
    {
     "name": "stdout",
     "output_type": "stream",
     "text": [
      "<class 'pandas.core.frame.DataFrame'>\n",
      "RangeIndex: 1136 entries, 0 to 1135\n",
      "Data columns (total 43 columns):\n",
      " #   Column                  Non-Null Count  Dtype  \n",
      "---  ------                  --------------  -----  \n",
      " 0   ID                      1136 non-null   int64  \n",
      " 1   Type                    1136 non-null   object \n",
      " 2   Cotton                  1136 non-null   float64\n",
      " 3   Organic_cotton          1136 non-null   float64\n",
      " 4   Linen                   1136 non-null   float64\n",
      " 5   Hemp                    1136 non-null   float64\n",
      " 6   Jute                    1136 non-null   int64  \n",
      " 7   Other_plant             1136 non-null   int64  \n",
      " 8   Silk                    1136 non-null   float64\n",
      " 9   Wool                    1136 non-null   float64\n",
      " 10  Leather                 1136 non-null   float64\n",
      " 11  Camel                   1136 non-null   int64  \n",
      " 12  Cashmere                1136 non-null   int64  \n",
      " 13  Alpaca                  1136 non-null   int64  \n",
      " 14  Feathers                1136 non-null   float64\n",
      " 15  Other_animal            1136 non-null   int64  \n",
      " 16  Polyester               1136 non-null   float64\n",
      " 17  Nylon                   1136 non-null   float64\n",
      " 18  Acrylic                 1136 non-null   float64\n",
      " 19  Spandex                 1136 non-null   float64\n",
      " 20  Elastane                1136 non-null   float64\n",
      " 21  Polyamide               1136 non-null   float64\n",
      " 22  Other_synthetic         1136 non-null   float64\n",
      " 23  Lyocell                 1136 non-null   float64\n",
      " 24  Viscose                 1136 non-null   float64\n",
      " 25  Acetate                 1136 non-null   float64\n",
      " 26  Modal                   1136 non-null   float64\n",
      " 27  Rayon                   1136 non-null   float64\n",
      " 28  Other_regenerated       1136 non-null   int64  \n",
      " 29  Other                   1136 non-null   float64\n",
      " 30  Recycled_content        1136 non-null   float64\n",
      " 31  Reused_content          1136 non-null   float64\n",
      " 32  Material_label          1136 non-null   int64  \n",
      " 33  Chemicals_label         1136 non-null   int64  \n",
      " 34  Production_label        1136 non-null   int64  \n",
      " 35  Manufacturing_location  300 non-null    object \n",
      " 36  Transporation_distance  1136 non-null   float64\n",
      " 37  Use_location            1136 non-null   object \n",
      " 38  Washing_instruction     1136 non-null   object \n",
      " 39  Drying_instruction      1136 non-null   object \n",
      " 40  Reusability_label       1136 non-null   int64  \n",
      " 41  Recylability_label      1136 non-null   int64  \n",
      " 42  EI                      1136 non-null   int64  \n",
      "dtypes: float64(24), int64(14), object(5)\n",
      "memory usage: 381.8+ KB\n"
     ]
    }
   ],
   "source": [
    "# -*- coding: utf-8 -*-\n",
    "\n",
    "df.info()"
   ]
  },
  {
   "cell_type": "markdown",
   "id": "0946549a",
   "metadata": {},
   "source": [
    "**Nous avons une colonne qui indique le type de vêtement dont il s'agit, des données sur la quantité de chaque matériel pour ce vêtement, des labels selon l'ACP de ce produit tels que production, toxicité (chemicals), réutilisabilité et recyclabilité, le local de fabrication et d'utilisation, la distance entre ces deux derniers et finalement la classification environnementale (EI - Environmental Impact)**.  \n",
    "\n",
    "`Manufacturing_location` est la seule colonne avec des données manquantes. Regardons pour combien d'observations :"
   ]
  },
  {
   "cell_type": "code",
   "execution_count": 17,
   "id": "d3b0b13b",
   "metadata": {},
   "outputs": [
    {
     "data": {
      "text/plain": [
       "836"
      ]
     },
     "execution_count": 17,
     "metadata": {},
     "output_type": "execute_result"
    }
   ],
   "source": [
    "# -*- coding: utf-8 -*-\n",
    "\n",
    "df.isna().sum().sum()"
   ]
  },
  {
   "cell_type": "markdown",
   "id": "1543d061",
   "metadata": {},
   "source": [
    "Puisque les données manquantes représentent une grande partie de notre ensemble de données, et sachant que nous avons la colonne `Transporation_distance` qui est finalement plus significative que les lieux de fabrication et d'utilisation du produit, **nous allons supprimer les colonnes `Manufacturing_location` et `Use_location`**. Puisque la **colonne `ID`** correspond à l'index, nous allons la supprimer également :"
   ]
  },
  {
   "cell_type": "code",
   "execution_count": 18,
   "id": "011f60bf",
   "metadata": {},
   "outputs": [],
   "source": [
    "# -*- coding: utf-8 -*-\n",
    "\n",
    "df.drop(['ID', 'Manufacturing_location', 'Use_location'], axis=1, inplace=True)"
   ]
  },
  {
   "cell_type": "markdown",
   "id": "174e3a89",
   "metadata": {},
   "source": [
    "Regardons maintenant quelques inforamtions statistiques de chaque colonne numérique (moyenne, écart-type, minimum, maximum, intercartilles, count) :"
   ]
  },
  {
   "cell_type": "code",
   "execution_count": 19,
   "id": "402df0a4",
   "metadata": {},
   "outputs": [
    {
     "data": {
      "text/html": [
       "<div>\n",
       "<style scoped>\n",
       "    .dataframe tbody tr th:only-of-type {\n",
       "        vertical-align: middle;\n",
       "    }\n",
       "\n",
       "    .dataframe tbody tr th {\n",
       "        vertical-align: top;\n",
       "    }\n",
       "\n",
       "    .dataframe thead th {\n",
       "        text-align: right;\n",
       "    }\n",
       "</style>\n",
       "<table border=\"1\" class=\"dataframe\">\n",
       "  <thead>\n",
       "    <tr style=\"text-align: right;\">\n",
       "      <th></th>\n",
       "      <th>Cotton</th>\n",
       "      <th>Organic_cotton</th>\n",
       "      <th>Linen</th>\n",
       "      <th>Hemp</th>\n",
       "      <th>Jute</th>\n",
       "      <th>Other_plant</th>\n",
       "      <th>Silk</th>\n",
       "      <th>Wool</th>\n",
       "      <th>Leather</th>\n",
       "      <th>Camel</th>\n",
       "      <th>...</th>\n",
       "      <th>Other</th>\n",
       "      <th>Recycled_content</th>\n",
       "      <th>Reused_content</th>\n",
       "      <th>Material_label</th>\n",
       "      <th>Chemicals_label</th>\n",
       "      <th>Production_label</th>\n",
       "      <th>Transporation_distance</th>\n",
       "      <th>Reusability_label</th>\n",
       "      <th>Recylability_label</th>\n",
       "      <th>EI</th>\n",
       "    </tr>\n",
       "  </thead>\n",
       "  <tbody>\n",
       "    <tr>\n",
       "      <th>count</th>\n",
       "      <td>1136.000000</td>\n",
       "      <td>1136.000000</td>\n",
       "      <td>1136.000000</td>\n",
       "      <td>1136.000000</td>\n",
       "      <td>1136.0</td>\n",
       "      <td>1136.0</td>\n",
       "      <td>1136.000000</td>\n",
       "      <td>1136.000000</td>\n",
       "      <td>1136.000000</td>\n",
       "      <td>1136.0</td>\n",
       "      <td>...</td>\n",
       "      <td>1136.000000</td>\n",
       "      <td>1136.000000</td>\n",
       "      <td>1136.000000</td>\n",
       "      <td>1136.000000</td>\n",
       "      <td>1136.000000</td>\n",
       "      <td>1136.000000</td>\n",
       "      <td>1.136000e+03</td>\n",
       "      <td>1136.000000</td>\n",
       "      <td>1136.000000</td>\n",
       "      <td>1136.000000</td>\n",
       "    </tr>\n",
       "    <tr>\n",
       "      <th>mean</th>\n",
       "      <td>0.416444</td>\n",
       "      <td>0.104674</td>\n",
       "      <td>0.002896</td>\n",
       "      <td>0.000202</td>\n",
       "      <td>0.0</td>\n",
       "      <td>0.0</td>\n",
       "      <td>0.005370</td>\n",
       "      <td>0.011127</td>\n",
       "      <td>0.006162</td>\n",
       "      <td>0.0</td>\n",
       "      <td>...</td>\n",
       "      <td>0.001197</td>\n",
       "      <td>0.047069</td>\n",
       "      <td>0.039833</td>\n",
       "      <td>0.327465</td>\n",
       "      <td>0.039613</td>\n",
       "      <td>0.088028</td>\n",
       "      <td>8.416133e+11</td>\n",
       "      <td>0.065141</td>\n",
       "      <td>0.072183</td>\n",
       "      <td>3.384683</td>\n",
       "    </tr>\n",
       "    <tr>\n",
       "      <th>std</th>\n",
       "      <td>0.428725</td>\n",
       "      <td>0.254373</td>\n",
       "      <td>0.039812</td>\n",
       "      <td>0.006824</td>\n",
       "      <td>0.0</td>\n",
       "      <td>0.0</td>\n",
       "      <td>0.072569</td>\n",
       "      <td>0.071690</td>\n",
       "      <td>0.069338</td>\n",
       "      <td>0.0</td>\n",
       "      <td>...</td>\n",
       "      <td>0.030069</td>\n",
       "      <td>0.143838</td>\n",
       "      <td>0.136055</td>\n",
       "      <td>0.469495</td>\n",
       "      <td>0.195133</td>\n",
       "      <td>0.283461</td>\n",
       "      <td>2.836624e+13</td>\n",
       "      <td>0.246883</td>\n",
       "      <td>0.258905</td>\n",
       "      <td>1.122809</td>\n",
       "    </tr>\n",
       "    <tr>\n",
       "      <th>min</th>\n",
       "      <td>0.000000</td>\n",
       "      <td>0.000000</td>\n",
       "      <td>0.000000</td>\n",
       "      <td>0.000000</td>\n",
       "      <td>0.0</td>\n",
       "      <td>0.0</td>\n",
       "      <td>0.000000</td>\n",
       "      <td>0.000000</td>\n",
       "      <td>0.000000</td>\n",
       "      <td>0.0</td>\n",
       "      <td>...</td>\n",
       "      <td>0.000000</td>\n",
       "      <td>0.000000</td>\n",
       "      <td>0.000000</td>\n",
       "      <td>0.000000</td>\n",
       "      <td>0.000000</td>\n",
       "      <td>0.000000</td>\n",
       "      <td>1.000000e+02</td>\n",
       "      <td>0.000000</td>\n",
       "      <td>0.000000</td>\n",
       "      <td>1.000000</td>\n",
       "    </tr>\n",
       "    <tr>\n",
       "      <th>25%</th>\n",
       "      <td>0.000000</td>\n",
       "      <td>0.000000</td>\n",
       "      <td>0.000000</td>\n",
       "      <td>0.000000</td>\n",
       "      <td>0.0</td>\n",
       "      <td>0.0</td>\n",
       "      <td>0.000000</td>\n",
       "      <td>0.000000</td>\n",
       "      <td>0.000000</td>\n",
       "      <td>0.0</td>\n",
       "      <td>...</td>\n",
       "      <td>0.000000</td>\n",
       "      <td>0.000000</td>\n",
       "      <td>0.000000</td>\n",
       "      <td>0.000000</td>\n",
       "      <td>0.000000</td>\n",
       "      <td>0.000000</td>\n",
       "      <td>7.475500e+03</td>\n",
       "      <td>0.000000</td>\n",
       "      <td>0.000000</td>\n",
       "      <td>3.000000</td>\n",
       "    </tr>\n",
       "    <tr>\n",
       "      <th>50%</th>\n",
       "      <td>0.280000</td>\n",
       "      <td>0.000000</td>\n",
       "      <td>0.000000</td>\n",
       "      <td>0.000000</td>\n",
       "      <td>0.0</td>\n",
       "      <td>0.0</td>\n",
       "      <td>0.000000</td>\n",
       "      <td>0.000000</td>\n",
       "      <td>0.000000</td>\n",
       "      <td>0.0</td>\n",
       "      <td>...</td>\n",
       "      <td>0.000000</td>\n",
       "      <td>0.000000</td>\n",
       "      <td>0.000000</td>\n",
       "      <td>0.000000</td>\n",
       "      <td>0.000000</td>\n",
       "      <td>0.000000</td>\n",
       "      <td>1.137300e+04</td>\n",
       "      <td>0.000000</td>\n",
       "      <td>0.000000</td>\n",
       "      <td>4.000000</td>\n",
       "    </tr>\n",
       "    <tr>\n",
       "      <th>75%</th>\n",
       "      <td>0.950000</td>\n",
       "      <td>0.000000</td>\n",
       "      <td>0.000000</td>\n",
       "      <td>0.000000</td>\n",
       "      <td>0.0</td>\n",
       "      <td>0.0</td>\n",
       "      <td>0.000000</td>\n",
       "      <td>0.000000</td>\n",
       "      <td>0.000000</td>\n",
       "      <td>0.0</td>\n",
       "      <td>...</td>\n",
       "      <td>0.000000</td>\n",
       "      <td>0.000000</td>\n",
       "      <td>0.000000</td>\n",
       "      <td>1.000000</td>\n",
       "      <td>0.000000</td>\n",
       "      <td>0.000000</td>\n",
       "      <td>1.627800e+04</td>\n",
       "      <td>0.000000</td>\n",
       "      <td>0.000000</td>\n",
       "      <td>4.000000</td>\n",
       "    </tr>\n",
       "    <tr>\n",
       "      <th>max</th>\n",
       "      <td>1.000000</td>\n",
       "      <td>1.000000</td>\n",
       "      <td>1.000000</td>\n",
       "      <td>0.230000</td>\n",
       "      <td>0.0</td>\n",
       "      <td>0.0</td>\n",
       "      <td>1.000000</td>\n",
       "      <td>1.000000</td>\n",
       "      <td>1.000000</td>\n",
       "      <td>0.0</td>\n",
       "      <td>...</td>\n",
       "      <td>1.000000</td>\n",
       "      <td>1.000000</td>\n",
       "      <td>1.000000</td>\n",
       "      <td>1.000000</td>\n",
       "      <td>1.000000</td>\n",
       "      <td>1.000000</td>\n",
       "      <td>9.560727e+14</td>\n",
       "      <td>1.000000</td>\n",
       "      <td>1.000000</td>\n",
       "      <td>5.000000</td>\n",
       "    </tr>\n",
       "  </tbody>\n",
       "</table>\n",
       "<p>8 rows × 37 columns</p>\n",
       "</div>"
      ],
      "text/plain": [
       "            Cotton  Organic_cotton        Linen         Hemp    Jute  \\\n",
       "count  1136.000000     1136.000000  1136.000000  1136.000000  1136.0   \n",
       "mean      0.416444        0.104674     0.002896     0.000202     0.0   \n",
       "std       0.428725        0.254373     0.039812     0.006824     0.0   \n",
       "min       0.000000        0.000000     0.000000     0.000000     0.0   \n",
       "25%       0.000000        0.000000     0.000000     0.000000     0.0   \n",
       "50%       0.280000        0.000000     0.000000     0.000000     0.0   \n",
       "75%       0.950000        0.000000     0.000000     0.000000     0.0   \n",
       "max       1.000000        1.000000     1.000000     0.230000     0.0   \n",
       "\n",
       "       Other_plant         Silk         Wool      Leather   Camel  ...  \\\n",
       "count       1136.0  1136.000000  1136.000000  1136.000000  1136.0  ...   \n",
       "mean           0.0     0.005370     0.011127     0.006162     0.0  ...   \n",
       "std            0.0     0.072569     0.071690     0.069338     0.0  ...   \n",
       "min            0.0     0.000000     0.000000     0.000000     0.0  ...   \n",
       "25%            0.0     0.000000     0.000000     0.000000     0.0  ...   \n",
       "50%            0.0     0.000000     0.000000     0.000000     0.0  ...   \n",
       "75%            0.0     0.000000     0.000000     0.000000     0.0  ...   \n",
       "max            0.0     1.000000     1.000000     1.000000     0.0  ...   \n",
       "\n",
       "             Other  Recycled_content  Reused_content  Material_label  \\\n",
       "count  1136.000000       1136.000000     1136.000000     1136.000000   \n",
       "mean      0.001197          0.047069        0.039833        0.327465   \n",
       "std       0.030069          0.143838        0.136055        0.469495   \n",
       "min       0.000000          0.000000        0.000000        0.000000   \n",
       "25%       0.000000          0.000000        0.000000        0.000000   \n",
       "50%       0.000000          0.000000        0.000000        0.000000   \n",
       "75%       0.000000          0.000000        0.000000        1.000000   \n",
       "max       1.000000          1.000000        1.000000        1.000000   \n",
       "\n",
       "       Chemicals_label  Production_label  Transporation_distance  \\\n",
       "count      1136.000000       1136.000000            1.136000e+03   \n",
       "mean          0.039613          0.088028            8.416133e+11   \n",
       "std           0.195133          0.283461            2.836624e+13   \n",
       "min           0.000000          0.000000            1.000000e+02   \n",
       "25%           0.000000          0.000000            7.475500e+03   \n",
       "50%           0.000000          0.000000            1.137300e+04   \n",
       "75%           0.000000          0.000000            1.627800e+04   \n",
       "max           1.000000          1.000000            9.560727e+14   \n",
       "\n",
       "       Reusability_label  Recylability_label           EI  \n",
       "count        1136.000000         1136.000000  1136.000000  \n",
       "mean            0.065141            0.072183     3.384683  \n",
       "std             0.246883            0.258905     1.122809  \n",
       "min             0.000000            0.000000     1.000000  \n",
       "25%             0.000000            0.000000     3.000000  \n",
       "50%             0.000000            0.000000     4.000000  \n",
       "75%             0.000000            0.000000     4.000000  \n",
       "max             1.000000            1.000000     5.000000  \n",
       "\n",
       "[8 rows x 37 columns]"
      ]
     },
     "execution_count": 19,
     "metadata": {},
     "output_type": "execute_result"
    }
   ],
   "source": [
    "# -*- coding: utf-8 -*-\n",
    "\n",
    "df.describe()"
   ]
  },
  {
   "cell_type": "markdown",
   "id": "6d860f97",
   "metadata": {},
   "source": [
    "**On voit ici que les valeurs minimum des données correspondantes au matériel eu et aux Labels sont égales à 0 et leur maximum égales à 1 : il s'agit donc de pourcentages. Le label environnemental varie bien de 1 à 5.**  \n",
    "\n",
    "La seule variable qualitative de notre ensemble de données sont les variables `Type`, qui nous indique de quelle catégorie de vêtements il s'agit, `Washing_instruction` et `Drying_instruction`. Regardons les graphiques à barres pour avoir une idée de la distribution de ces données :"
   ]
  },
  {
   "cell_type": "code",
   "execution_count": 20,
   "id": "0bbc4978",
   "metadata": {},
   "outputs": [
    {
     "data": {
      "image/png": "[encoded data removed]",
      "text/plain": [
       "<Figure size 640x480 with 1 Axes>"
      ]
     },
     "metadata": {},
     "output_type": "display_data"
    }
   ],
   "source": [
    "# -*- coding: utf-8 -*-\n",
    "\n",
    "#Fonction pour afficher un graphique en barres horizontales :\n",
    "\n",
    "\n",
    "def bar_h(df,X) :\n",
    "    # Compter le nombre de chaque type de vêtement\n",
    "    counts = df[X].value_counts()\n",
    "    # Créer un graphique en barres horizontales\n",
    "    plt.barh(counts.index, counts.values)\n",
    "    # Ajouter des étiquettes et un titre\n",
    "    plt.xlabel('Nombre de vêtements')\n",
    "    plt.ylabel(f'{X}')\n",
    "    plt.title(f'Nombre de vêtements par {X}')\n",
    "    # Afficher le graphique\n",
    "    plt.savefig('static/bar_h.png')\n",
    "    #return plt.show()\n",
    "\n",
    "bar_h(df,'Type')"
   ]
  },
  {
   "cell_type": "code",
   "execution_count": 21,
   "id": "81087a83",
   "metadata": {},
   "outputs": [
    {
     "data": {
      "image/png": "[encoded data removed]",
      "text/plain": [
       "<Figure size 640x480 with 1 Axes>"
      ]
     },
     "metadata": {},
     "output_type": "display_data"
    }
   ],
   "source": [
    "# -*- coding: utf-8 -*-\n",
    "\n",
    "bar_h(df,'Washing_instruction')"
   ]
  },
  {
   "cell_type": "code",
   "execution_count": 22,
   "id": "dbf35fbf",
   "metadata": {},
   "outputs": [
    {
     "data": {
      "image/png": "[encoded data removed]",
      "text/plain": [
       "<Figure size 640x480 with 1 Axes>"
      ]
     },
     "metadata": {},
     "output_type": "display_data"
    }
   ],
   "source": [
    "# -*- coding: utf-8 -*-\n",
    "\n",
    "bar_h(df,'Drying_instruction')"
   ]
  },
  {
   "cell_type": "markdown",
   "id": "d9dd787a",
   "metadata": {},
   "source": [
    "Ces variables qualitatives n'ont pas d'impact significatif sur l'impact environnemental du vêtement : le type de lavage est une conséquence plutôt de la composition générale des matériaux de fabrication d'une pièce, et le type de vêtement n'est qu'une classification qui n'a pas de corrélation directe avec la variable qu'on cherche à expliquer.  \n",
    "Ainsi, **nous n'allons pas utiliser les variables qualitatives pour notre modèle de Machine Learning**. Cela nous évite également de passer par un processus d'encodage via le module OneHot Encoder de Scikit-Learn, pour les variables non ordinales, et Label Encoding pour les variables ordinales.  \n",
    "\n",
    "Regardons le colonnes `Recycled_content`, `Recylability_label`, `Reused_content`, `Reusability_label` et `Material_label` :"
   ]
  },
  {
   "cell_type": "code",
   "execution_count": 23,
   "id": "f519ffd6",
   "metadata": {},
   "outputs": [
    {
     "data": {
      "text/plain": [
       "Recycled_content\n",
       "0.00    998\n",
       "0.33     42\n",
       "0.20     35\n",
       "0.40     29\n",
       "0.70     14\n",
       "0.65      7\n",
       "1.00      5\n",
       "0.41      3\n",
       "0.15      1\n",
       "0.11      1\n",
       "0.17      1\n",
       "Name: count, dtype: int64"
      ]
     },
     "execution_count": 23,
     "metadata": {},
     "output_type": "execute_result"
    }
   ],
   "source": [
    "# -*- coding: utf-8 -*-\n",
    "\n",
    "df['Recycled_content'].value_counts()"
   ]
  },
  {
   "cell_type": "code",
   "execution_count": 24,
   "id": "dcaf61d2",
   "metadata": {},
   "outputs": [
    {
     "data": {
      "text/plain": [
       "Recylability_label\n",
       "0    1054\n",
       "1      82\n",
       "Name: count, dtype: int64"
      ]
     },
     "execution_count": 24,
     "metadata": {},
     "output_type": "execute_result"
    }
   ],
   "source": [
    "# -*- coding: utf-8 -*-\n",
    "\n",
    "df['Recylability_label'].value_counts()"
   ]
  },
  {
   "cell_type": "code",
   "execution_count": 25,
   "id": "35b51f55",
   "metadata": {},
   "outputs": [
    {
     "data": {
      "text/plain": [
       "Reused_content\n",
       "0.00    1029\n",
       "0.25      50\n",
       "0.50      41\n",
       "0.75      15\n",
       "1.00       1\n",
       "Name: count, dtype: int64"
      ]
     },
     "execution_count": 25,
     "metadata": {},
     "output_type": "execute_result"
    }
   ],
   "source": [
    "# -*- coding: utf-8 -*-\n",
    "\n",
    "df['Reused_content'].value_counts()"
   ]
  },
  {
   "cell_type": "code",
   "execution_count": 26,
   "id": "87cd16ff",
   "metadata": {},
   "outputs": [
    {
     "data": {
      "text/plain": [
       "Reusability_label\n",
       "0    1062\n",
       "1      74\n",
       "Name: count, dtype: int64"
      ]
     },
     "execution_count": 26,
     "metadata": {},
     "output_type": "execute_result"
    }
   ],
   "source": [
    "# -*- coding: utf-8 -*-\n",
    "\n",
    "df['Reusability_label'].value_counts()"
   ]
  },
  {
   "cell_type": "code",
   "execution_count": 27,
   "id": "1cc4b537",
   "metadata": {},
   "outputs": [
    {
     "data": {
      "text/plain": [
       "Material_label\n",
       "0    764\n",
       "1    372\n",
       "Name: count, dtype: int64"
      ]
     },
     "execution_count": 27,
     "metadata": {},
     "output_type": "execute_result"
    }
   ],
   "source": [
    "# -*- coding: utf-8 -*-\n",
    "\n",
    "df['Material_label'].value_counts()"
   ]
  },
  {
   "cell_type": "markdown",
   "id": "3b351a91",
   "metadata": {},
   "source": [
    "Nous pouvons constater que la plupart des vêtements ne contiennent aucun matériau recyclé lors de leur fabrication et qu'ils ne peuvent pas non plus être réutilisés.  \n",
    "Regardons maintenat notre **variable à expliquer**, l'impact environnemental (`EI` - Environmental Impact) :"
   ]
  },
  {
   "cell_type": "code",
   "execution_count": 28,
   "id": "79c6a810",
   "metadata": {},
   "outputs": [
    {
     "data": {
      "image/png": "[encoded data removed]",
      "text/plain": [
       "<Figure size 600x600 with 1 Axes>"
      ]
     },
     "metadata": {},
     "output_type": "display_data"
    }
   ],
   "source": [
    "# -*- coding: utf-8 -*-\n",
    "\n",
    "plt.figure(figsize=(6,6))\n",
    "df['EI'].value_counts().plot(kind='pie', autopct='%.2f%%')\n",
    "plt.title('Distribution du label EI (Environmental Impact)', fontweight='bold', fontsize=15)\n",
    "plt.show()"
   ]
  },
  {
   "cell_type": "markdown",
   "id": "df3dca86",
   "metadata": {},
   "source": [
    "Il s'agit d'une étiquette allant de 1 à 5 selon l'impact environnemental du produit. La plupart des vêtements de notre base de données ont une classification entre 3 et 5, c'est-à-dire, sont dans une catégorie de grand impact environnemental.  \n",
    "\n",
    "Examinons la matrice de corrélation, qui nous donne les R-carrés ou les coefficients de détermination entre les variables, pour voir si nous pouvons en tirer des conclusions significatives :"
   ]
  },
  {
   "cell_type": "code",
   "execution_count": 29,
   "id": "3f04458c",
   "metadata": {},
   "outputs": [
    {
     "ename": "ValueError",
     "evalue": "could not convert string to float: 'jeans'",
     "output_type": "error",
     "traceback": [
      "\u001b[0;31m---------------------------------------------------------------------------\u001b[0m",
      "\u001b[0;31mValueError\u001b[0m                                Traceback (most recent call last)",
      "Cell \u001b[0;32mIn[29], line 4\u001b[0m\n\u001b[1;32m      1\u001b[0m \u001b[38;5;66;03m# -*- coding: utf-8 -*-\u001b[39;00m\n\u001b[1;32m      2\u001b[0m \n\u001b[1;32m      3\u001b[0m \u001b[38;5;66;03m#matrice de correlation\u001b[39;00m\n\u001b[0;32m----> 4\u001b[0m corr \u001b[38;5;241m=\u001b[39m \u001b[43mdf\u001b[49m\u001b[38;5;241;43m.\u001b[39;49m\u001b[43mcorr\u001b[49m\u001b[43m(\u001b[49m\u001b[43m)\u001b[49m\n\u001b[1;32m      5\u001b[0m plt\u001b[38;5;241m.\u001b[39mfigure(figsize\u001b[38;5;241m=\u001b[39m(\u001b[38;5;241m20\u001b[39m,\u001b[38;5;241m20\u001b[39m))\n\u001b[1;32m      6\u001b[0m sns\u001b[38;5;241m.\u001b[39mheatmap(corr, annot\u001b[38;5;241m=\u001b[39m\u001b[38;5;28;01mTrue\u001b[39;00m, cmap\u001b[38;5;241m=\u001b[39m\u001b[38;5;124m'\u001b[39m\u001b[38;5;124mrocket_r\u001b[39m\u001b[38;5;124m'\u001b[39m, linewidths\u001b[38;5;241m=\u001b[39m\u001b[38;5;241m1\u001b[39m, linecolor\u001b[38;5;241m=\u001b[39m\u001b[38;5;124m'\u001b[39m\u001b[38;5;124mwhite\u001b[39m\u001b[38;5;124m'\u001b[39m)\n",
      "File \u001b[0;32m/Library/Frameworks/Python.framework/Versions/3.11/lib/python3.11/site-packages/pandas/core/frame.py:10054\u001b[0m, in \u001b[0;36mDataFrame.corr\u001b[0;34m(self, method, min_periods, numeric_only)\u001b[0m\n\u001b[1;32m  <a href='file:///Library/Frameworks/Python.framework/Versions/3.11/lib/python3.11/site-packages/pandas/core/frame.py?line=10051'>10052</a>\u001b[0m cols \u001b[39m=\u001b[39m data\u001b[39m.\u001b[39mcolumns\n\u001b[1;32m  <a href='file:///Library/Frameworks/Python.framework/Versions/3.11/lib/python3.11/site-packages/pandas/core/frame.py?line=10052'>10053</a>\u001b[0m idx \u001b[39m=\u001b[39m cols\u001b[39m.\u001b[39mcopy()\n\u001b[0;32m> <a href='file:///Library/Frameworks/Python.framework/Versions/3.11/lib/python3.11/site-packages/pandas/core/frame.py?line=10053'>10054</a>\u001b[0m mat \u001b[39m=\u001b[39m data\u001b[39m.\u001b[39;49mto_numpy(dtype\u001b[39m=\u001b[39;49m\u001b[39mfloat\u001b[39;49m, na_value\u001b[39m=\u001b[39;49mnp\u001b[39m.\u001b[39;49mnan, copy\u001b[39m=\u001b[39;49m\u001b[39mFalse\u001b[39;49;00m)\n\u001b[1;32m  <a href='file:///Library/Frameworks/Python.framework/Versions/3.11/lib/python3.11/site-packages/pandas/core/frame.py?line=10055'>10056</a>\u001b[0m \u001b[39mif\u001b[39;00m method \u001b[39m==\u001b[39m \u001b[39m\"\u001b[39m\u001b[39mpearson\u001b[39m\u001b[39m\"\u001b[39m:\n\u001b[1;32m  <a href='file:///Library/Frameworks/Python.framework/Versions/3.11/lib/python3.11/site-packages/pandas/core/frame.py?line=10056'>10057</a>\u001b[0m     correl \u001b[39m=\u001b[39m libalgos\u001b[39m.\u001b[39mnancorr(mat, minp\u001b[39m=\u001b[39mmin_periods)\n",
      "File \u001b[0;32m/Library/Frameworks/Python.framework/Versions/3.11/lib/python3.11/site-packages/pandas/core/frame.py:1838\u001b[0m, in \u001b[0;36mDataFrame.to_numpy\u001b[0;34m(self, dtype, copy, na_value)\u001b[0m\n\u001b[1;32m   <a href='file:///Library/Frameworks/Python.framework/Versions/3.11/lib/python3.11/site-packages/pandas/core/frame.py?line=1835'>1836</a>\u001b[0m \u001b[39mif\u001b[39;00m dtype \u001b[39mis\u001b[39;00m \u001b[39mnot\u001b[39;00m \u001b[39mNone\u001b[39;00m:\n\u001b[1;32m   <a href='file:///Library/Frameworks/Python.framework/Versions/3.11/lib/python3.11/site-packages/pandas/core/frame.py?line=1836'>1837</a>\u001b[0m     dtype \u001b[39m=\u001b[39m np\u001b[39m.\u001b[39mdtype(dtype)\n\u001b[0;32m-> <a href='file:///Library/Frameworks/Python.framework/Versions/3.11/lib/python3.11/site-packages/pandas/core/frame.py?line=1837'>1838</a>\u001b[0m result \u001b[39m=\u001b[39m \u001b[39mself\u001b[39;49m\u001b[39m.\u001b[39;49m_mgr\u001b[39m.\u001b[39;49mas_array(dtype\u001b[39m=\u001b[39;49mdtype, copy\u001b[39m=\u001b[39;49mcopy, na_value\u001b[39m=\u001b[39;49mna_value)\n\u001b[1;32m   <a href='file:///Library/Frameworks/Python.framework/Versions/3.11/lib/python3.11/site-packages/pandas/core/frame.py?line=1838'>1839</a>\u001b[0m \u001b[39mif\u001b[39;00m result\u001b[39m.\u001b[39mdtype \u001b[39mis\u001b[39;00m \u001b[39mnot\u001b[39;00m dtype:\n\u001b[1;32m   <a href='file:///Library/Frameworks/Python.framework/Versions/3.11/lib/python3.11/site-packages/pandas/core/frame.py?line=1839'>1840</a>\u001b[0m     result \u001b[39m=\u001b[39m np\u001b[39m.\u001b[39marray(result, dtype\u001b[39m=\u001b[39mdtype, copy\u001b[39m=\u001b[39m\u001b[39mFalse\u001b[39;00m)\n",
      "File \u001b[0;32m/Library/Frameworks/Python.framework/Versions/3.11/lib/python3.11/site-packages/pandas/core/internals/managers.py:1732\u001b[0m, in \u001b[0;36mBlockManager.as_array\u001b[0;34m(self, dtype, copy, na_value)\u001b[0m\n\u001b[1;32m   <a href='file:///Library/Frameworks/Python.framework/Versions/3.11/lib/python3.11/site-packages/pandas/core/internals/managers.py?line=1729'>1730</a>\u001b[0m         arr\u001b[39m.\u001b[39mflags\u001b[39m.\u001b[39mwriteable \u001b[39m=\u001b[39m \u001b[39mFalse\u001b[39;00m\n\u001b[1;32m   <a href='file:///Library/Frameworks/Python.framework/Versions/3.11/lib/python3.11/site-packages/pandas/core/internals/managers.py?line=1730'>1731</a>\u001b[0m \u001b[39melse\u001b[39;00m:\n\u001b[0;32m-> <a href='file:///Library/Frameworks/Python.framework/Versions/3.11/lib/python3.11/site-packages/pandas/core/internals/managers.py?line=1731'>1732</a>\u001b[0m     arr \u001b[39m=\u001b[39m \u001b[39mself\u001b[39;49m\u001b[39m.\u001b[39;49m_interleave(dtype\u001b[39m=\u001b[39;49mdtype, na_value\u001b[39m=\u001b[39;49mna_value)\n\u001b[1;32m   <a href='file:///Library/Frameworks/Python.framework/Versions/3.11/lib/python3.11/site-packages/pandas/core/internals/managers.py?line=1732'>1733</a>\u001b[0m     \u001b[39m# The underlying data was copied within _interleave, so no need\u001b[39;00m\n\u001b[1;32m   <a href='file:///Library/Frameworks/Python.framework/Versions/3.11/lib/python3.11/site-packages/pandas/core/internals/managers.py?line=1733'>1734</a>\u001b[0m     \u001b[39m# to further copy if copy=True or setting na_value\u001b[39;00m\n\u001b[1;32m   <a href='file:///Library/Frameworks/Python.framework/Versions/3.11/lib/python3.11/site-packages/pandas/core/internals/managers.py?line=1735'>1736</a>\u001b[0m \u001b[39mif\u001b[39;00m na_value \u001b[39mis\u001b[39;00m \u001b[39mnot\u001b[39;00m lib\u001b[39m.\u001b[39mno_default:\n",
      "File \u001b[0;32m/Library/Frameworks/Python.framework/Versions/3.11/lib/python3.11/site-packages/pandas/core/internals/managers.py:1794\u001b[0m, in \u001b[0;36mBlockManager._interleave\u001b[0;34m(self, dtype, na_value)\u001b[0m\n\u001b[1;32m   <a href='file:///Library/Frameworks/Python.framework/Versions/3.11/lib/python3.11/site-packages/pandas/core/internals/managers.py?line=1791'>1792</a>\u001b[0m     \u001b[39melse\u001b[39;00m:\n\u001b[1;32m   <a href='file:///Library/Frameworks/Python.framework/Versions/3.11/lib/python3.11/site-packages/pandas/core/internals/managers.py?line=1792'>1793</a>\u001b[0m         arr \u001b[39m=\u001b[39m blk\u001b[39m.\u001b[39mget_values(dtype)\n\u001b[0;32m-> <a href='file:///Library/Frameworks/Python.framework/Versions/3.11/lib/python3.11/site-packages/pandas/core/internals/managers.py?line=1793'>1794</a>\u001b[0m     result[rl\u001b[39m.\u001b[39;49mindexer] \u001b[39m=\u001b[39m arr\n\u001b[1;32m   <a href='file:///Library/Frameworks/Python.framework/Versions/3.11/lib/python3.11/site-packages/pandas/core/internals/managers.py?line=1794'>1795</a>\u001b[0m     itemmask[rl\u001b[39m.\u001b[39mindexer] \u001b[39m=\u001b[39m \u001b[39m1\u001b[39m\n\u001b[1;32m   <a href='file:///Library/Frameworks/Python.framework/Versions/3.11/lib/python3.11/site-packages/pandas/core/internals/managers.py?line=1796'>1797</a>\u001b[0m \u001b[39mif\u001b[39;00m \u001b[39mnot\u001b[39;00m itemmask\u001b[39m.\u001b[39mall():\n",
      "\u001b[0;31mValueError\u001b[0m: could not convert string to float: 'jeans'"
     ]
    }
   ],
   "source": [
    "# -*- coding: utf-8 -*-\n",
    "\n",
    "#matrice de correlation\n",
    "corr = df.corr()\n",
    "plt.figure(figsize=(20,20))\n",
    "sns.heatmap(corr, annot=True, cmap='rocket_r', linewidths=1, linecolor='white')\n",
    "plt.title(\"Matrice des corrélations\", fontsize=18, fontweight='bold')\n",
    "plt.show()"
   ]
  },
  {
   "cell_type": "markdown",
   "id": "5dbb1c7f",
   "metadata": {},
   "source": [
    "Nous pouvons voir que **l'étiquette de l'impact environnemental (`EI`) augmente en fonction de l'impact négatif : plus elle est grande, moins l'entreprise est éco-responsable**.  <br>\n",
    "Nous pouvons voir que **le pourcentage de coton biologique (`cotton_organique`) est négativement corrélé à l'`IE`, ainsi que toutes les variables `label`**. <br>Comme cet ensemble de données provient d'une étude antérieure dans laquelle l'une des variables d'une paire de variables explicatives fortement corrélées entre elles a été supprimée, nous n'avons pas besoin de le faire pour que notre modèle ne soit pas biaisé.  \n",
    "\n",
    "Nous avons une quantité importante de variables. Avant de créer un modéle d'apprentissage supervisé, il faut que nous regardions s'il est possible de diminuer le nombre de variables initiales pour obtenir un un espace de dimension réduite en perdant le moins possible d'informations. Pour ça, nous allons appliquer une ACP.  \n",
    "\n",
    "Le premier pas, tout d'abord, est de **diviser notre jeu de données en variables explicatives, variable à expliquer, en d'entraînement et jeu de test**.\n",
    "\n",
    "# Data Split"
   ]
  },
  {
   "cell_type": "markdown",
   "id": "f5ab1edd",
   "metadata": {},
   "source": [
    "D'un coté X la matrice des données (**variables explicatives**) :"
   ]
  },
  {
   "cell_type": "code",
   "execution_count": null,
   "id": "05556c01",
   "metadata": {},
   "outputs": [],
   "source": [
    "# -*- coding: utf-8 -*-\n",
    "\n",
    "#créer une copie du df en ne conservant que les colonnes numériques :\n",
    "df = df.select_dtypes(include=['float64', 'int64'])\n",
    "\n",
    "#matrice X\n",
    "X = df.iloc[:, :-1].values\n",
    "\n",
    "#nom des variables à expliquer\n",
    "features = df.iloc[:, :-1].columns\n",
    "features"
   ]
  },
  {
   "cell_type": "markdown",
   "id": "45bfa96a",
   "metadata": {},
   "source": [
    "Nous enregistrons les différentes catégories de la **variable à expliquer** dans une nouvelle variable, y :"
   ]
  },
  {
   "cell_type": "code",
   "execution_count": null,
   "id": "9f4877dc",
   "metadata": {},
   "outputs": [],
   "source": [
    "y = df['EI']\n",
    "y"
   ]
  },
  {
   "cell_type": "markdown",
   "id": "59c1dbcb",
   "metadata": {},
   "source": [
    "On découpe nos données en **jeu d'entraînement et jeu de test (20% du total)** :"
   ]
  },
  {
   "cell_type": "code",
   "execution_count": null,
   "id": "7d0b8c27",
   "metadata": {},
   "outputs": [],
   "source": [
    "X_train, X_test, y_train, y_test = train_test_split(X, y, test_size=0.2, random_state=42)"
   ]
  },
  {
   "cell_type": "markdown",
   "id": "153484e3",
   "metadata": {},
   "source": [
    "On va **centrer-réduire** nos données :"
   ]
  },
  {
   "cell_type": "code",
   "execution_count": null,
   "id": "8da23d80",
   "metadata": {},
   "outputs": [],
   "source": [
    "scaler = preprocessing.StandardScaler()\n",
    "std_scale = scaler.fit(X_train)\n",
    "X_train_std = std_scale.transform(X_train)\n",
    "X_test_std = std_scale.transform(X_test)"
   ]
  },
  {
   "cell_type": "markdown",
   "id": "bc9619bb",
   "metadata": {},
   "source": [
    "On confirme que la moyenne est à 0 et l'écart-type à 1, c'est-à-dire, que nos données sont bien centrées-réduites :"
   ]
  },
  {
   "cell_type": "code",
   "execution_count": null,
   "id": "01a1dc22",
   "metadata": {},
   "outputs": [],
   "source": [
    "pd.DataFrame(X_train_std).describe().round(2).iloc[1:3:, : ]"
   ]
  },
  {
   "cell_type": "markdown",
   "id": "39d74008",
   "metadata": {},
   "source": [
    "# ACP : Analyse par composantes principales\n",
    "\n",
    "L'**ACP** ou **PCA** (pour Principal Component Analysis) a deux objectifs principaux. Elle permet d'étudier :\n",
    "\n",
    "* La **variabilité entre les individus**, c'est-à-dire quelles sont les différences et les ressemblances entre individus ;\n",
    "\n",
    "* Les **liaisons entre les variables** : y a-t-il des groupes de variables très corrélées entre elles, qui peuvent être regroupées en de nouvelles variables synthétiques ?\n",
    "\n",
    "Pour savoir **combien de composantes principales étudier**, il faut créer un diagramme d’éboulis des valeurs propres.  \n",
    "En ACP, quand on projette les données sur les axes principaux d’inertie, ceux-ci sont ordonnés selon l’inertie du nuage de points projeté : de la plus grande à la plus petite. Quand on additionne les inerties associées à tous les axes, on obtient l’inertie totale du nuage des individus. L’éboulis des valeurs propres est donc ce diagramme qui décrit le pourcentage d’inertie totale associé à chaque axe. On peut également afficher la somme cumulée des inerties, une courbe qui part de l’origine et qui arrive à 100 % après avoir parcouru tous les axes.  \n",
    "Nous allons travailler ici sur les 10 premières composantes :"
   ]
  },
  {
   "cell_type": "code",
   "execution_count": null,
   "id": "cbbe4a77",
   "metadata": {},
   "outputs": [],
   "source": [
    "#définir le nombre de composantes principales\n",
    "n_components = 10\n",
    "\n",
    "# On instancie notre ACP :\n",
    "pca = PCA(n_components=n_components)\n",
    "\n",
    "# On l'entraîne et transforme sur les données :\n",
    "pca.fit(X_train_std)\n",
    "df_pca = pca.transform(X_train_std)"
   ]
  },
  {
   "cell_type": "markdown",
   "id": "d7396ad9",
   "metadata": {},
   "source": [
    "Intéressons nous maintenant à la variance captée par chaque nouvelle composante :"
   ]
  },
  {
   "cell_type": "code",
   "execution_count": null,
   "id": "2d00bda8",
   "metadata": {},
   "outputs": [],
   "source": [
    "pca.explained_variance_ratio_"
   ]
  },
  {
   "cell_type": "markdown",
   "id": "239eacc4",
   "metadata": {},
   "source": [
    "Ici, on voit que la 1ère composante capte presque 13% de la variance de nos données initiales, la 2ème 6.71%, etc etc. Nous pouvons voir cela dans notre **éboulis des valeurs propres** :"
   ]
  },
  {
   "cell_type": "code",
   "execution_count": null,
   "id": "874a1589",
   "metadata": {},
   "outputs": [],
   "source": [
    "#variances par composantes principales\n",
    "scree = (pca.explained_variance_ratio_*100).round(2)\n",
    "\n",
    "#variances cumulées \n",
    "scree_cum = scree.cumsum().round()\n",
    "\n",
    "#liste avec composantes\n",
    "x_list = range(1, n_components+1)\n",
    "\n",
    "#éboulis des valeurs propres\n",
    "plt.bar(x_list, scree)\n",
    "plt.plot(x_list, scree_cum,c=\"red\",marker='o')\n",
    "plt.xlabel(\"rang de l'axe d'inertie\")\n",
    "plt.ylabel(\"pourcentage d'inertie\")\n",
    "plt.title(\"Eboulis des valeurs propres\")\n",
    "plt.show(block=False)"
   ]
  },
  {
   "cell_type": "markdown",
   "id": "a6472580",
   "metadata": {},
   "source": [
    "On a en bleu la variance de chaque nouvelle composante, et en rouge la variance cumulée. On voit ici qu'on a que'environ 55% de la variance expliquée par les 10 premières composantes. Cela nous indique que toutes nos variables doivent être comprises dans notre modèle. Nous pouvons voir la contribution de chaque variable à chaque axe principal d'inertie par la table ci-dessus :"
   ]
  },
  {
   "cell_type": "code",
   "execution_count": null,
   "id": "7346e987",
   "metadata": {},
   "outputs": [],
   "source": [
    "pcs = pd.DataFrame(pca.components_)\n",
    "pcs.columns = features\n",
    "pcs.index = [f\"F{i}\" for i in x_list]\n",
    "pcs.round(2)\n",
    "pcs.T"
   ]
  },
  {
   "cell_type": "markdown",
   "id": "d5bcedc9",
   "metadata": {},
   "source": [
    "Répresentons cela par un heatmap :"
   ]
  },
  {
   "cell_type": "code",
   "execution_count": null,
   "id": "dd9ee31a",
   "metadata": {},
   "outputs": [],
   "source": [
    "fig, ax = plt.subplots(figsize=(20, 6))\n",
    "sns.heatmap(pcs.T, vmin=-1, vmax=1, annot=True, cmap=\"coolwarm\", fmt=\"0.2f\")\n",
    "plt.show()"
   ]
  },
  {
   "cell_type": "markdown",
   "id": "f0f8983f",
   "metadata": {},
   "source": [
    "E finalement par un **cercle de corrélations**, qui nous permet d'étudier la liaison entre les variables qui définissent l'impact environnemental d'un vêtement selon les plans principaux d'inertie. Créons notre cercle des corrélations pour F1 et F2 :"
   ]
  },
  {
   "cell_type": "code",
   "execution_count": null,
   "id": "d5c27981",
   "metadata": {},
   "outputs": [],
   "source": [
    "def correlation_graph(pca, \n",
    "                      x_y, \n",
    "                      features) : \n",
    "    \"\"\"Affiche le graphe des correlations\n",
    "\n",
    "    Positional arguments : \n",
    "    -----------------------------------\n",
    "    pca : sklearn.decomposition.PCA : notre objet PCA qui a été fit\n",
    "    x_y : list ou tuple : le couple x,y des plans à afficher, exemple [0,1] pour F1, F2\n",
    "    features : list ou tuple : la liste des features (ie des dimensions) à représenter\n",
    "    \"\"\"\n",
    "\n",
    "    # Extrait x et y \n",
    "    x,y=x_y\n",
    "\n",
    "    # Taille de l'image (en inches)\n",
    "    fig, ax = plt.subplots(figsize=(10, 9))\n",
    "\n",
    "    # Pour chaque composante : \n",
    "    for i in range(0, pca.components_.shape[1]):\n",
    "\n",
    "        # Les flèches\n",
    "        ax.arrow(0,0, \n",
    "                pca.components_[x, i],  \n",
    "                pca.components_[y, i],  \n",
    "                head_width=0.07,\n",
    "                head_length=0.07, \n",
    "                width=0.02, )\n",
    "\n",
    "        # Les labels\n",
    "        plt.text(pca.components_[x, i] + 0.05,\n",
    "                pca.components_[y, i] + 0.05,\n",
    "                features[i])\n",
    "        \n",
    "    # Affichage des lignes horizontales et verticales\n",
    "    plt.plot([-1, 1], [0, 0], color='grey', ls='--')\n",
    "    plt.plot([0, 0], [-1, 1], color='grey', ls='--')\n",
    "\n",
    "    # Nom des axes, avec le pourcentage d'inertie expliqué\n",
    "    plt.xlabel('F{} ({}%)'.format(x+1, round(100*pca.explained_variance_ratio_[x],1)))\n",
    "    plt.ylabel('F{} ({}%)'.format(y+1, round(100*pca.explained_variance_ratio_[y],1)))\n",
    "\n",
    "    # J'ai copié collé le code sans le lire\n",
    "    plt.title(\"Cercle des corrélations (F{} et F{})\".format(x+1, y+1))\n",
    "\n",
    "    # Le cercle \n",
    "    an = np.linspace(0, 2 * np.pi, 100)\n",
    "    plt.plot(np.cos(an), np.sin(an))  # Add a unit circle for scale\n",
    "\n",
    "    # Axes et display\n",
    "    plt.axis('equal')\n",
    "    plt.show(block=False)\n",
    "    \n",
    "# définition des axes x et y (2 premières composantes) : \n",
    "x_y = (0,1)\n",
    "x_y\n",
    "\n",
    "# graphique \n",
    "correlation_graph(pca, x_y, features)"
   ]
  },
  {
   "cell_type": "markdown",
   "id": "dbc3a5c6",
   "metadata": {},
   "source": [
    "Et pour F2 et F3 :"
   ]
  },
  {
   "cell_type": "code",
   "execution_count": null,
   "id": "8c40eaef",
   "metadata": {},
   "outputs": [],
   "source": [
    "correlation_graph(pca, (1,2), features)"
   ]
  },
  {
   "cell_type": "markdown",
   "id": "afef41c0",
   "metadata": {},
   "source": [
    "**On constate qu'il est effectivement difficile de retirer des conclusions sur un possible résumé de nos données. Toutes les varibales étant importantes, nous n'allons pas obtenir un un espace de dimension réduite.**  \n",
    "\n",
    "**Notre but étant d'effectuer une tâche de classification, vous pouvons essayer d'utiliser un algorithme différent qui pourrait être mieux adapté à nos données, comme les forêts aléatoires ou les réseaux de neurones.**  \n",
    "\n",
    "**Nous allons commencer par un algorithme d'arbre de décisions, pour après appliquer une forêt aléatoire et évaluer la performance de chaque algorithme.**  \n",
    "\n",
    "# Arbre de décisions\n",
    "\n",
    "**Un arbre de décisions est un algorithme d'apprentissage supervisé non paramétrique, qui est utilisé à la fois pour les tâches de classification et régression**. Il a une **structure hiérarchique**, une structure arborescente, qui se compose d'un noeud racine, de branches, de nœuds interne et de noeuds feuille.\n",
    "\n",
    "Pour la classification,  à chacune de ces itérations, l'algorithme d'entraînement va rajouter la décision qu'il lui semble le mieux de rajouter. Pour ce faire, il va  tester et évaluer la qualité de toutes les nouvelles décisions qu'il est possible d'ajouter à l'arbre en calculant le score Gini. Le score Gini est un score qui a été spécialement inventé afin de réaliser la sélection des nouvelles branches dans un arbre de décision.\n",
    "\n",
    "Le score \"Gini\", est compris entre zéro et 1.  Il s'agit d'une valeur numérique indiquant la probabilité que l' arbre se trompe lors de la prise d'une décision (par exemple qu'il choisit la classe \"A\" alors que la vraie classe c'est \"B\") - si le jeu de données était libellé qie sur la base de la distribution de ses classes. Une branche sera rajoutée à l'arbre si parmi toutes les branches qu'il est possible de créer cette dernière présente le score Gini maximal. \n",
    "\n",
    "Le process complet de construction d'un arbre de décision, est, donc : \n",
    "\n",
    "   1- À l'initialisation, l'arbre est totalement vide.\n",
    "\n",
    "   2- Le score de toutes les décisions qu'il est possible de prendre  est calculé. \n",
    "\n",
    "   3- La décision qui présente le score Gini maximal est choisie comme racine\n",
    "\n",
    "   4-Tant qu'il est possible de faire un split et que le critère d'arrêt n'est pas respecté :\n",
    "\n",
    "            5- Pour chaque décision qu'il est possible d'ajouter à l'arbre; Faire 6.\n",
    "\n",
    "                             6- Calcul du score Gini de la décision courante \n",
    "\n",
    "            7-Sélection de la décision admettant le score max et ajout de celle-ci à l'arbre \n",
    "\n",
    "  \n",
    "Nous allons faire appel à la bibliothèque scikit-learn pour entraîner un modèle d'arbre de décisions sur notre jeu de données. Pour choisir les meilleurs paramètres à utiliser dans notre modèle, nous allons utiliser la validation croisée à travers GridSearchCV :"
   ]
  },
  {
   "cell_type": "code",
   "execution_count": null,
   "id": "c62157d3",
   "metadata": {},
   "outputs": [],
   "source": [
    "# Tester des différents paramètres min_samples_leaf\n",
    "param_grid = {'min_samples_leaf': range(5, 100, 5)}\n",
    "\n",
    "# Instancier le classifieur d'arbre de decisions avec un crière de Gini et best splitter :\n",
    "dtc = DecisionTreeClassifier(criterion='gini', splitter='best')\n",
    "\n",
    "# Rechercher le meilleur paramètre min_samples_leaf et ajuster le modèle aux données d'apprentissage :\n",
    "grid_search = GridSearchCV(dtc, param_grid=param_grid, cv=10)\n",
    "grid_search.fit(X_train_std, y_train)\n",
    "\n",
    "# Enregistrer n_samples_leaf optimal\n",
    "n_samples = grid_search.best_params_['min_samples_leaf']\n",
    "\n",
    "print(\"Best min_samples_leaf:\", n_samples)"
   ]
  },
  {
   "cell_type": "code",
   "execution_count": null,
   "id": "8cf24d85",
   "metadata": {},
   "outputs": [],
   "source": [
    "# Appliquer la classification par arbre de décision avec le meilleur hyperparamètre\n",
    "clf = DecisionTreeClassifier(criterion='gini', splitter='best', min_samples_leaf=grid_search.best_params_['min_samples_leaf'])\n",
    "\n",
    "# Ajuster le modèle aux données d'apprentissage :\n",
    "clf.fit(X_train_std, y_train)\n",
    "\n",
    "# Faire des prédictions sur les données du test\n",
    "y_pred = clf.predict(X_test_std)\n",
    "\n",
    "# Accuracy score\n",
    "print('Accuracy:', round(accuracy_score(y_test, y_pred),2))"
   ]
  },
  {
   "cell_type": "markdown",
   "id": "3fd93e60",
   "metadata": {},
   "source": [
    "**Nous avons obtenu un accuracy score de 0.85 : notre modèle est donc très performant**. Nous pouvons le visualizer sur l'image ci-dessus :"
   ]
  },
  {
   "cell_type": "code",
   "execution_count": null,
   "id": "30f06157",
   "metadata": {},
   "outputs": [],
   "source": [
    "# Visualiser l'arbre de decision\n",
    "plt.figure(figsize=(20,20))\n",
    "plot_tree(clf, fontsize=8)\n",
    "plt.show()"
   ]
  },
  {
   "cell_type": "markdown",
   "id": "efda6464",
   "metadata": {},
   "source": [
    "Même si notre modèle est très performant, il y a un possible \"problème\" quand on utilise qu'un seul arbre de decision : notre modèle tend a overfitter très facilement, en restant trop collé aux données qu'on lui a fourni pour faire une classification. C'est pour cette raison qu'on passera a un deuxième modèle, qui va être au fait une perfecction des arbres de decisions : une forêt aléatoire.\n",
    "\n",
    "# Forêts aléatoires\n",
    "\n",
    "**Un random forest est constitué d'un ensemble d'arbres de décision indépendants. Chaque arbre dispose d'une vision parcellaire du problème du fait d'un double tirage aléatoire : un tirage aléatoire avec remplacement sur les observations** (bootstrap).\n",
    "\n",
    "L'algorithme d'entraînement du Random Forest construit chacun des arbres de décisions qui le composent, en les entraînant tous avec un sous-ensemble des données du problème. \n",
    "\n",
    "Il choisit aléatoirement des données auxquelles une partie des arbres de décisions n'auront pas accès tandis qu'une autre y aura accès afin de les rendre totalement aveugles à ces dernières et de s'assurer que tous les arbres de décision aient bien une expérience différente du problème. \n",
    "\n",
    "Une fois l'entraînement de tout les arbres de décision terminés, le Random Forest prend ses décisions relativement au problème de classification ou de régression à résoudre, en faisant voter tous les arbres de décisions qui le compose. La décision de la majorité l'emporte alors.\n",
    "\n",
    "Entraînons notre modèle de Random Forest à l'aide de Sckiti-Learn, encore une fois. Commençons par choisir au hasard les paramètres n_estimators et max_depth, et en définissant la racine carrée du nombre total de caractéristiques comme le nombre de caractéristiques que l'algorithme de la forêt aléatoire peut rechercher à partir de chaque point de division d'un arbre :"
   ]
  },
  {
   "cell_type": "code",
   "execution_count": null,
   "id": "c1f82c17",
   "metadata": {},
   "outputs": [],
   "source": [
    "# Définir le classificateur de la forêt aléatoire\n",
    "rfc = RandomForestClassifier(n_estimators=100, max_features='sqrt', max_depth=10, random_state=42)\n",
    "\n",
    "# Ajuster le classificateur aux données d'entraînement\n",
    "rfc.fit(X_train_std, y_train)\n",
    "\n",
    "# Prédire sur la base des données de test\n",
    "y_pred = rfc.predict(X_test_std)\n",
    "\n",
    "# Accuracy score\n",
    "print('Accuracy:', round(accuracy_score(y_test, y_pred),2))"
   ]
  },
  {
   "cell_type": "markdown",
   "id": "85d48ec8",
   "metadata": {},
   "source": [
    "**Nous avons déjà un accuracy score meilleur que celui d'un seul arbre de decision : 0.87.**\n",
    "\n",
    "Testons une autre configuration de n_estimators et max_depth :"
   ]
  },
  {
   "cell_type": "code",
   "execution_count": null,
   "id": "2307d351",
   "metadata": {},
   "outputs": [],
   "source": [
    "# Définir le classificateur de la forêt aléatoire\n",
    "rfc = RandomForestClassifier(n_estimators=10, max_features='sqrt', max_depth=100, random_state=42)\n",
    "\n",
    "# Ajuster le classificateur aux données d'entraînement\n",
    "rfc.fit(X_train_std, y_train)\n",
    "\n",
    "# Prédire sur la base des données de test\n",
    "y_pred = rfc.predict(X_test_std)\n",
    "\n",
    "#Accuracy score\n",
    "print('Accuracy:', round(accuracy_score(y_test, y_pred),2))"
   ]
  },
  {
   "cell_type": "markdown",
   "id": "187fcf8e",
   "metadata": {},
   "source": [
    "**Nous avons un accuracy score encore mieux : 0.89** ! Notre modèle est donc plus performant avec un n_estimators=10 et max_depth=100, c'est-à-dire, des arbres très profonds.  \n",
    "\n",
    "On va maintenant utiliser la variable \"importance des caractéristiques\" pour afficher les scores d'importance des variables explicatives et les visualizer dans un graphique à barres horizontales :"
   ]
  },
  {
   "cell_type": "code",
   "execution_count": null,
   "id": "c0cc79de",
   "metadata": {},
   "outputs": [],
   "source": [
    "# visualiser les scores des caractéristiques\n",
    "feature_scores = pd.Series(rfc.feature_importances_, index=features).sort_values(ascending=False)\n",
    "\n",
    "# Créer d'un diagramme à barres\n",
    "plt.figure(figsize=(12,10))\n",
    "sns.barplot(x=feature_scores, y=feature_scores.index)\n",
    "\n",
    "# Ajouter des étiquettes au graphique\n",
    "plt.xlabel('Feature Importance Score')\n",
    "plt.ylabel('Features')\n",
    "\n",
    "# Ajouter un titre au graphique\n",
    "plt.title(\"Variables les plus importantes de la Forêt Aléatoire\", fontsize=15, fontweight='bold')\n",
    "\n",
    "# Visualize the graph\n",
    "plt.show()"
   ]
  },
  {
   "cell_type": "markdown",
   "id": "7190a37f",
   "metadata": {},
   "source": [
    "**Nous allons maintenant voir si notre modèle s'amèlieure encore plus si on garde que les variables qui nous sont vraiment intéressantes pour le modèle**, on va dire les 28 variables dont le feature_scores est visible sur le graphique ci-dessus :"
   ]
  },
  {
   "cell_type": "code",
   "execution_count": null,
   "id": "5086cde1",
   "metadata": {},
   "outputs": [],
   "source": [
    "# Déclarer le vecteur de caractéristiques et la variable cible\n",
    "X_new = df[pd.DataFrame(feature_scores).reset_index().head(28)['index'].tolist()]\n",
    "y_new = df['EI']\n",
    "\n",
    "X_train_new, X_test_new, y_train_new, y_test_new = train_test_split(X_new, y_new, test_size = 0.2, random_state = 42)\n",
    "\n",
    "# Centrer-reduire le nouvel ensemble de variables\n",
    "std_scale_new = scaler.fit(X_train_new)\n",
    "X_train_std_new = std_scale_new.transform(X_train_new)\n",
    "X_test_std_new = std_scale_new.transform(X_test_new)\n",
    "\n",
    "# Définir le classificateur de la forêt aléatoire\n",
    "rfc_new = RandomForestClassifier(n_estimators=10, max_features='sqrt', max_depth=100, random_state=42)\n",
    "\n",
    "# Ajuster le classificateur aux données d'entraînement\n",
    "rfc_new.fit(X_train_std_new, y_train_new)\n",
    "\n",
    "# Prédire sur la base des données de test\n",
    "y_pred_new = rfc_new.predict(X_test_std_new)\n",
    "\n",
    "#Accuracy score\n",
    "print('Accuracy:', round(accuracy_score(y_test_new, y_pred_new),2))"
   ]
  },
  {
   "cell_type": "markdown",
   "id": "2805a19c",
   "metadata": {},
   "source": [
    "**L'accuracy score a diminué avec le feature selection effectué. Cela nous confirme, comme nous avios vu lors de l'essai de l'application de l'ACP, que toutes nos variables sont significatives pour notre modèle. Notre modèle choisi est donc celui dont l'accuracy score est égal à 0.89**\n",
    "\n",
    "\n",
    "Regardons, maintenat, la **matrice de confusion** pour avoir une idée de la qualité de prédiction pour chaque catégorie :"
   ]
  },
  {
   "cell_type": "code",
   "execution_count": null,
   "id": "01e9c4a5",
   "metadata": {},
   "outputs": [],
   "source": [
    "# Definir les labels\n",
    "labels = [1, 2, 3, 4, 5]\n",
    "\n",
    "# Créer une matrice de confusion\n",
    "cm = confusion_matrix(y_test, y_pred, labels=labels)\n",
    "\n",
    "# Visualiser matrice de confusion\n",
    "cm_display = ConfusionMatrixDisplay(confusion_matrix=cm, display_labels=labels)\n",
    "cm_display.plot()\n",
    "plt.title(\"Matrice de confusion du modèle de Forêt Aléatoire\", fontweight='bold')\n",
    "plt.show()"
   ]
  },
  {
   "cell_type": "markdown",
   "id": "36f138f0",
   "metadata": {},
   "source": [
    "# Conclusion\n",
    "\n",
    "Nous constatons que tous les vêtements ayant un `EI` de 1 ont été classés dans la catégorie 1. Il en va de même pour la catégorie 2.  \n",
    "Ainsi, **notre modèle est capable de prédire 100 % des vêtements ayant le plus faible impact environnemental**.  <br>\n",
    "La variance est un peu plus importante pour les vêtements situés au milieu, puisque 6 vêtements ont été classés dans la catégorie 2 et 6 dans la catégorie 4 alors qu'ils appartenaient à la catégorie 3, ce qui représente 18 % des vêtements de la catégorie 3 qui ont été mal classés.  \n",
    "8 vêtements ont été classés dans la catégorie 5 alors qu'ils appartenaient à la catégorie 4, mais cela ne représente que 8,6 % des vêtements de la catégorie 4, ce qui reste une très bonne prédiction.  \n",
    "Enfin, 4 vêtements de la catégorie 5 ont été classés dans la catégorie 4, ce qui représente 12 % des vêtements de cette catégorie.  \n",
    "D'une manière générale, **notre modèle reste très performant avec des classifications pertinentes et un très bon accuracy score**."
   ]
  },
  {
   "cell_type": "code",
   "execution_count": null,
   "id": "13f87f2b",
   "metadata": {},
   "outputs": [],
   "source": []
  }
 ],
 "metadata": {
  "kernelspec": {
   "display_name": "Python 3 (ipykernel)",
   "language": "python",
   "name": "python3"
  },
  "language_info": {
   "codemirror_mode": {
    "name": "ipython",
    "version": 3
   },
   "file_extension": ".py",
   "mimetype": "text/x-python",
   "name": "python",
   "nbconvert_exporter": "python",
   "pygments_lexer": "ipython3",
   "version": "3.11.1"
  }
 },
 "nbformat": 4,
 "nbformat_minor": 5
}
